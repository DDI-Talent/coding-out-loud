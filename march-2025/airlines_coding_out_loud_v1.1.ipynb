{
 "cells": [
  {
   "cell_type": "code",
   "execution_count": null,
   "id": "a3d1d85c-1405-4015-8a2e-15dec640dc8f",
   "metadata": {},
   "outputs": [],
   "source": [
    "import requests\n",
    "import pprint\n",
    "\n",
    "#api_url = \"https://api.flightapi.io/schedule/YOUR_API_KEY?mode=departures&iata=EDI&day=1\"\n",
    "#response = requests.get(api_url) # simplest web browser\n",
    "#all_departures = response.json()\n"
   ]
  },
  {
   "cell_type": "markdown",
   "id": "8090d79e-d1d4-4939-b766-91f07f05d020",
   "metadata": {},
   "source": [
    "# Task for today:\n",
    "\n",
    "- load live airport arrivals data (from api)\n",
    "- simplify it (Keith)\n",
    "- show it in a simple and pretty way (pawel)\n",
    "\n",
    "API - Application Programming Interfaces (computers talk to computers. And share data)\n",
    "\n",
    "Call - request data\n",
    "\n",
    "What's the data: any format: JSON (text that looks like a python Dict), CSV\n",
    "\n",
    "To get your own API key go to api.flightapi.io\n",
    "\n",
    "\n",
    "`https://api.flightapi.io/schedule/YOUR_API_KEY?mode=departures&iata=EDI&day=1`\n",
    "\n",
    "`https://`  - protocol (programming language)\n",
    "\n",
    "`api.flightapi.io` - website (computer)\n",
    "\n",
    "`/schedule/YOUR_API_KEY` - page (function)\n",
    "\n",
    "`? mode=departures & iata=EDI & day=1` - variables (after ?), separated by & (variables)\n"
   ]
  },
  {
   "cell_type": "code",
   "execution_count": null,
   "id": "aa1d535f-e165-44b9-983f-d6b9b520df05",
   "metadata": {},
   "outputs": [],
   "source": [
    "# or load file locally\n",
    "filename_airports = \"data_airline_edi_7mar2025.json\"\n",
    "\n",
    "def load_file(filename):\n",
    "    data = json.load(open(filename))\n",
    "    return data\n",
    "\n",
    "all_departures = load_file(filename_airports)"
   ]
  },
  {
   "cell_type": "code",
   "execution_count": null,
   "id": "12c76613-8207-4c1c-9dc5-110f1435e3e8",
   "metadata": {},
   "outputs": [],
   "source": [
    "# Exploration\n",
    "just_departures = all_departures['airport']['pluginData']['schedule']['departures']['data']\n",
    "pprint.pp(just_departures[0]['flight'])"
   ]
  },
  {
   "cell_type": "code",
   "execution_count": null,
   "id": "434e742e-0f56-4fcf-86bd-dc02b5aeda3e",
   "metadata": {},
   "outputs": [],
   "source": [
    "print(response.json())"
   ]
  },
  {
   "cell_type": "code",
   "execution_count": null,
   "id": "bc846772-085c-485b-aa4f-b0b4d21df815",
   "metadata": {},
   "outputs": [],
   "source": [
    "arrivals = response.json()\n",
    "# pprint.pp(arrivals)\n",
    "arrivals.keys()"
   ]
  },
  {
   "cell_type": "code",
   "execution_count": null,
   "id": "4a457e2f-d97e-4fce-bf90-cd6fa2946556",
   "metadata": {},
   "outputs": [],
   "source": [
    "pprint.pp(arrivals)\n"
   ]
  },
  {
   "cell_type": "code",
   "execution_count": null,
   "id": "be05da3f-f4f4-4c7e-a523-b8a603a9ac6d",
   "metadata": {},
   "outputs": [],
   "source": [
    "flight = just_departures[0]['flight']\n",
    "# pprint.pp(flight['airport']['destination']['name'])\n",
    "\n",
    "def create_flight_dict(raw_dict):\n",
    "\n",
    "    destination = raw_dict['flight']['airport']['destination']['name']\n",
    "    departure_time = raw_dict['flight']['status']['text']\n",
    "    \n",
    "    return {\n",
    "        'departure_time': departure_time,\n",
    "        'destination': destination\n",
    "    }"
   ]
  },
  {
   "cell_type": "code",
   "execution_count": null,
   "id": "35bde0f2-aecd-48f4-b899-a3cb4bf6a5c2",
   "metadata": {},
   "outputs": [],
   "source": [
    "simple_departures = [\n",
    "    create_flight_dict(flight_dict_raw)\n",
    "    for flight_dict_raw in just_departures\n",
    "]"
   ]
  },
  {
   "cell_type": "code",
   "execution_count": null,
   "id": "c62acba1-616a-448b-8ffa-5015f56608dc",
   "metadata": {},
   "outputs": [],
   "source": [
    "def flight_as_string(simple_dict):\n",
    "    return f\"Flight to {simple_dict['destination']:.<30} will be at {simple_dict['departure_time']:.>30}\"\n",
    "\n",
    "flights_as_strings = [\n",
    "    flight_as_string(flight)\n",
    "    for flight in simple_departures\n",
    "]\n",
    "\n",
    "flights_as_strings"
   ]
  }
 ],
 "metadata": {
  "kernelspec": {
   "display_name": "Python 3 (ipykernel)",
   "language": "python",
   "name": "python3"
  },
  "language_info": {
   "codemirror_mode": {
    "name": "ipython",
    "version": 3
   },
   "file_extension": ".py",
   "mimetype": "text/x-python",
   "name": "python",
   "nbconvert_exporter": "python",
   "pygments_lexer": "ipython3",
   "version": "3.11.9"
  }
 },
 "nbformat": 4,
 "nbformat_minor": 5
}
