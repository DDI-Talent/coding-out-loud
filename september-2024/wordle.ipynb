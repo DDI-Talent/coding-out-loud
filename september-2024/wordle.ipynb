{
 "cells": [
  {
   "cell_type": "code",
   "execution_count": 7,
   "id": "80877e0d-4968-4cc6-a160-6d786ed53a7f",
   "metadata": {},
   "outputs": [],
   "source": [
    "import csv\n",
    "import random\n",
    "\n",
    "class Game:\n",
    "    \n",
    "    def __init__(self):\n",
    "        self.max_guesses = 6\n",
    "        self.all_words = self.load_basic_english_words()\n",
    "\n",
    "    def reset_game(self):\n",
    "        self.secret = random.choice(self.all_words)\n",
    "        self.guesses = []\n",
    "        self.leftover_words = self.all_words\n",
    "    \n",
    "    \n",
    "    def words_that_fit_feedback(self,guess):\n",
    "#         apple\n",
    "#         ++?--\n",
    "        feedback = self.get_feedback(guess)\n",
    "\n",
    "        allowed_words_for_feedbacks = []\n",
    "\n",
    "        for index in range(0,5):\n",
    "            words_that_meet_feedback_item = [] #eg 'A' is at index 0\n",
    "            if feedback[index] == \"+\": # letter is there!\n",
    "    #               keep words where letter A is at index 0\n",
    "                for word in self.leftover_words:\n",
    "                    if word[index] == guess[index]: \n",
    "                        words_that_meet_feedback_item.append(word)\n",
    "            elif feedback[index] == \"-\": # letter not there\n",
    "    #               keep words where letter A is not there at all\n",
    "                for word in self.leftover_words:\n",
    "                    if not guess[index] in word: \n",
    "                        words_that_meet_feedback_item.append(word)\n",
    "            elif feedback[index] == \"?\": # letter there, but elsewhere\n",
    "                for word in self.leftover_words:\n",
    "                    if guess[index] in word and word[index] != guess[index]: \n",
    "                        words_that_meet_feedback_item.append(word) \n",
    "\n",
    "            allowed_words_for_feedbacks.append(words_that_meet_feedback_item)\n",
    "\n",
    "    #     overlap\n",
    "        self.leftover_words  = set(allowed_words_for_feedbacks[0]) & set(allowed_words_for_feedbacks[1]) & set(allowed_words_for_feedbacks[2]) & set(allowed_words_for_feedbacks[3]) & set(allowed_words_for_feedbacks[4]  )\n",
    "\n",
    "    def load_basic_english_words(self):\n",
    "        with open(\"./wordle/xkcd_simple_words.csv\") as file:\n",
    "            reader = csv.reader(file, delimiter=\",\", quotechar='\"')\n",
    "            data_read = next(reader) #grab first line\n",
    "            #    TODO: only keep words 5 letters long \n",
    "            \n",
    "            words_to_keep = []\n",
    "            \n",
    "            for word in data_read:\n",
    "                if len(word) == 5:\n",
    "                    words_to_keep.append(word)\n",
    "            \n",
    "            return words_to_keep\n",
    "    \n",
    "    def best_word(self):\n",
    "        return random.choice( list(self.leftover_words) )\n",
    "        \n",
    "        \n",
    "    def auto_play(self):\n",
    "        scores = []\n",
    "        for which_go in range(10000):\n",
    "            self.reset_game()\n",
    "            while len(self.guesses) < self.max_guesses and not (self.secret in self.guesses):\n",
    "                guess = self.best_word()\n",
    "                self.guesses.append(guess)\n",
    "                self.words_that_fit_feedback(guess)\n",
    "                feedback = self.get_feedback(guess)\n",
    "                # print(feedback)\n",
    "                # print(self.get_feedback_for_humans(guess))\n",
    "            scores.append(len(self.guesses))\n",
    "        print(f\"on average you win every { sum(scores) / len(scores)}\")\n",
    "#  \n",
    "    \n",
    "    \n",
    "    def start(self):\n",
    "        self.reset_game()\n",
    "        \n",
    "        \n",
    "        while len(self.guesses) < self.max_guesses and not (self.secret in self.guesses):\n",
    "            guess = input(\"What's your guess? \")\n",
    "            self.guesses.append(guess)\n",
    "            self.words_that_fit_feedback(guess)\n",
    "            feedback = self.get_feedback(guess)\n",
    "            print(feedback)\n",
    "            print(self.get_feedback_for_humans(guess))\n",
    "#  \n",
    "    \n",
    "    \n",
    "#    (\"antil\")  \"apple\" -> \"+--?-\"\n",
    "    def get_feedback(self, guess):\n",
    "        feedback = \"\"\n",
    "        for index in range(0,5): #[0,1,2,3,4]\n",
    "            if guess[index] == self.secret[index]:\n",
    "                feedback += \"+\"\n",
    "            elif guess[index] in self.secret: #and guess[index] != self.secret[index] \n",
    "                feedback += \"?\"\n",
    "            else:\n",
    "                feedback += \"-\"\n",
    "        return feedback\n",
    "        \n",
    "        \n",
    "\n",
    "    def get_feedback_for_humans(self, guess):\n",
    "        feedback = self.get_feedback(guess)\n",
    "        if feedback == \"+++++\":\n",
    "            return f\"You Win! Secret was {self.secret}, you guessed in {len(self.guesses)}\"\n",
    "        else:\n",
    "            return f\"You guessed   {guess}\\nyour feedback {feedback}\\nleftover words are {self.leftover_words}\"\n",
    "            \n",
    "    "
   ]
  },
  {
   "cell_type": "code",
   "execution_count": 8,
   "id": "45b50100-9aa8-4181-b50b-284259a44ea8",
   "metadata": {},
   "outputs": [
    {
     "name": "stdin",
     "output_type": "stream",
     "text": [
      "What's your guess?  apple\n"
     ]
    },
    {
     "name": "stdout",
     "output_type": "stream",
     "text": [
      "----?\n",
      "You guessed   apple\n",
      "your feedback ----?\n",
      "leftover words are {'hides', 'fixed', 'bents', 'never', 'dries', 'offer', 'noses', 'drier', 'gives', 'outed', 'fixer', 'greys', 'dozen', 'quiet', 'truer', 'seems', 'fewer', 'frees', 'jokes', 'joked', 'buses', 'homes', 'teeth', 'edged', 'tones', 'money', 'tried', 'sized', 'edges', 'sizes', 'eight', 'freer', 'newer', 'boxed', 'skies', 'cover', 'mover', 'often', 'fives', 'keyed', 'toned', 'nosed', 'women', 'dryer', 'evens', 'yeses', 'sided', 'sexes', 'check', 'ended', 'fines', 'rider', 'tired', 'trues', 'buyer', 'fresh', 'guess', 'river', 'needs', 'timed', 'treed', 'sends', 'noted', 'nicer', 'timer', 'bitey', 'bored', 'sweet', 'trees', 'outer', 'boned', 'wests', 'woken', 'thens', 'under', 'mined', 'chest', 'tries', 'green', 'being', 'fiver', 'nones', 'homed', 'fired', 'eying', 'cried', 'goers', 'cries', 'bones', 'necks', 'finer', 'moves', 'biter', 'every', 'enjoy', 'desks', 'trued', 'ender', 'wines', 'rides', 'meets', 'views', 'owner', 'beers', 'notes', 'cheek', 'rests', 'heres', 'rises', 'shoes', 'begun', 'overs', 'weeks', 'mores', 'guyed', 'roses', 'wives', 'enter', 'seven', 'risen', 'sixes', 'fires', 'bends', 'dress', 'tires', 'other', 'sheet', 'sides', 'huger', 'begin', 'bused', 'boxes', 'times', 'moved', 'sexed', 'bites', 'freed', 'threw', 'rowed', 'feeds', 'wider', 'owned', 'given', 'doers', 'comes', 'offed', 'event', 'fixes', 'their', 'egged', 'surer', 'fined', 'bests', 'dried', 'knees', 'order'}\n"
     ]
    },
    {
     "name": "stdin",
     "output_type": "stream",
     "text": [
      "What's your guess?  hides\n"
     ]
    },
    {
     "name": "stdout",
     "output_type": "stream",
     "text": [
      "---?-\n",
      "You guessed   hides\n",
      "your feedback ---?-\n",
      "leftover words are {'every', 'event', 'enjoy', 'begun'}\n"
     ]
    },
    {
     "name": "stdin",
     "output_type": "stream",
     "text": [
      "What's your guess?  every\n"
     ]
    },
    {
     "name": "stdout",
     "output_type": "stream",
     "text": [
      "+++++\n",
      "You Win! Secret was every, you guessed in 3\n"
     ]
    }
   ],
   "source": [
    "my_game = Game()\n",
    "my_game.start()\n",
    "# my_game.auto_play()"
   ]
  },
  {
   "cell_type": "code",
   "execution_count": null,
   "id": "ef14331e-e254-4de6-9063-72e344b70310",
   "metadata": {},
   "outputs": [],
   "source": []
  }
 ],
 "metadata": {
  "kernelspec": {
   "display_name": "Python 3 (ipykernel)",
   "language": "python",
   "name": "python3"
  },
  "language_info": {
   "codemirror_mode": {
    "name": "ipython",
    "version": 3
   },
   "file_extension": ".py",
   "mimetype": "text/x-python",
   "name": "python",
   "nbconvert_exporter": "python",
   "pygments_lexer": "ipython3",
   "version": "3.11.7"
  }
 },
 "nbformat": 4,
 "nbformat_minor": 5
}
