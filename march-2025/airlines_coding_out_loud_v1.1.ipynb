{
 "cells": [
  {
   "cell_type": "markdown",
   "id": "8090d79e-d1d4-4939-b766-91f07f05d020",
   "metadata": {},
   "source": [
    "# Task for today:\n",
    "\n",
    "- load live airport arrivals data (from api)\n",
    "- simplify it (Keith)\n",
    "- show it in a simple and pretty way (pawel)\n",
    "\n",
    "API - Application programming interfaces (computers talk to computers. And share data)\n",
    "Call - requiest data\n",
    "What's the data: any format: JSON (text that looks like a python Dict), CSV\n",
    "\n",
    "`https://api.flightapi.io/schedule/67cabf7ed8fa5ab514772bf9?mode=departures&iata=EDI&day=1`\n",
    "\n",
    "`https://`  - protocol (programming language)\n",
    "`api.flightapi.io` - website (compuyter)\n",
    "`/schedule/67cabf7ed8fa5ab514772bf9` - page (function)\n",
    "`? mode=departures & iata=EDI & day=1` - variables (after ?), separated by & (variables)\n"
   ]
  },
  {
   "cell_type": "code",
   "execution_count": 26,
   "id": "a3d1d85c-1405-4015-8a2e-15dec640dc8f",
   "metadata": {},
   "outputs": [],
   "source": [
    "import requests\n",
    "import pprint\n",
    "\n",
    "api_url = \"https://api.flightapi.io/schedule/67cabf7ed8fa5ab514772bf9?mode=departures&iata=EDI&day=1\"\n",
    "response = requests.get(api_url) # simplest web browser\n",
    "all_departures = response.json()\n"
   ]
  },
  {
   "cell_type": "code",
   "execution_count": null,
   "id": "aa1d535f-e165-44b9-983f-d6b9b520df05",
   "metadata": {},
   "outputs": [],
   "source": [
    "# if saving tokens\n",
    "def load_file(filename):\n",
    "    data = json.load(open(filename))\n",
    "    return data\n",
    "\n",
    "all_departures = load_file(filename_airports)"
   ]
  },
  {
   "cell_type": "code",
   "execution_count": 58,
   "id": "12c76613-8207-4c1c-9dc5-110f1435e3e8",
   "metadata": {},
   "outputs": [
    {
     "name": "stdout",
     "output_type": "stream",
     "text": [
      "{'identification': {'id': '39627f0e',\n",
      "                    'row': 5630633878,\n",
      "                    'number': {'default': 'AF1687', 'alternative': 'A51687'},\n",
      "                    'callsign': 'AFR56RC',\n",
      "                    'codeshare': ['AM5813',\n",
      "                                  'DL8308',\n",
      "                                  'EY5890',\n",
      "                                  'G35283',\n",
      "                                  'KQ3897',\n",
      "                                  'MK9373',\n",
      "                                  'MU1752',\n",
      "                                  'UX2260',\n",
      "                                  'VS6603']},\n",
      " 'status': {'live': True,\n",
      "            'text': 'Estimated dep 11:14',\n",
      "            'icon': 'green',\n",
      "            'estimated': None,\n",
      "            'ambiguous': False,\n",
      "            'generic': {'status': {'text': 'estimated',\n",
      "                                   'type': 'departure',\n",
      "                                   'color': 'green',\n",
      "                                   'diverted': None},\n",
      "                        'eventTime': {'utc': 1741346040, 'local': 1741346040}}},\n",
      " 'aircraft': {'model': {'code': 'E190', 'text': 'Embraer E190LR'},\n",
      "              'registration': 'F-HBLA',\n",
      "              'country': {'id': 76,\n",
      "                          'name': 'France',\n",
      "                          'alpha2': 'FR',\n",
      "                          'alpha3': 'FRA'},\n",
      "              'hex': '398560',\n",
      "              'restricted': False,\n",
      "              'serialNo': None,\n",
      "              'age': {'availability': True},\n",
      "              'availability': {'serialNo': True, 'age': True}},\n",
      " 'owner': {'name': 'Air France Hop',\n",
      "           'code': {'iata': 'A5', 'icao': 'HOP'},\n",
      "           'logo': None},\n",
      " 'airline': {'name': 'Air France',\n",
      "             'code': {'iata': 'AF', 'icao': 'AFR'},\n",
      "             'short': 'Air France'},\n",
      " 'airport': {'origin': {'timezone': {'name': 'Europe/London',\n",
      "                                     'offset': 0,\n",
      "                                     'abbr': 'GMT',\n",
      "                                     'abbrName': 'Greenwich Mean Time',\n",
      "                                     'isDst': False},\n",
      "                        'info': {'terminal': None,\n",
      "                                 'baggage': None,\n",
      "                                 'gate': '2'}},\n",
      "             'destination': {'code': {'iata': 'CDG', 'icao': 'LFPG'},\n",
      "                             'timezone': {'name': 'Europe/Paris',\n",
      "                                          'offset': 3600,\n",
      "                                          'abbr': 'CET',\n",
      "                                          'abbrName': 'Central European Time',\n",
      "                                          'isDst': False},\n",
      "                             'info': {'terminal': '2E',\n",
      "                                      'baggage': '32',\n",
      "                                      'gate': None},\n",
      "                             'name': 'Paris Charles de Gaulle Airport',\n",
      "                             'position': {'latitude': 49.012516,\n",
      "                                          'longitude': 2.555752,\n",
      "                                          'country': {'name': 'France',\n",
      "                                                      'code': 'FR',\n",
      "                                                      'id': 76},\n",
      "                                          'region': {'city': 'Paris'}},\n",
      "                             'visible': True},\n",
      "             'real': None},\n",
      " 'time': {'scheduled': {'departure': 1741346700, 'arrival': 1741353600},\n",
      "          'real': {'departure': None, 'arrival': None},\n",
      "          'estimated': {'departure': 1741346040, 'arrival': None},\n",
      "          'other': {'eta': None, 'duration': None}}}\n"
     ]
    }
   ],
   "source": [
    "# < some object >\n",
    "just_departures = all_departures['airport']['pluginData']['schedule']['departures']['data']\n",
    "pprint.pp(just_departures[0]['flight'])"
   ]
  },
  {
   "cell_type": "code",
   "execution_count": null,
   "id": "434e742e-0f56-4fcf-86bd-dc02b5aeda3e",
   "metadata": {},
   "outputs": [],
   "source": [
    "print(response.json())"
   ]
  },
  {
   "cell_type": "code",
   "execution_count": null,
   "id": "bc846772-085c-485b-aa4f-b0b4d21df815",
   "metadata": {},
   "outputs": [],
   "source": [
    "arrivals = response.json()\n",
    "# pprint.pp(arrivals)\n",
    "arrivals.keys()"
   ]
  },
  {
   "cell_type": "code",
   "execution_count": null,
   "id": "4a457e2f-d97e-4fce-bf90-cd6fa2946556",
   "metadata": {},
   "outputs": [],
   "source": [
    "pprint.pp(arrivals)\n"
   ]
  },
  {
   "cell_type": "code",
   "execution_count": null,
   "id": "aaff7578-f401-4893-8b53-91605c311a4d",
   "metadata": {},
   "outputs": [],
   "source": []
  },
  {
   "cell_type": "code",
   "execution_count": null,
   "id": "b20f8d61-f512-430e-8b23-6ccb0fe6d5bf",
   "metadata": {},
   "outputs": [],
   "source": []
  },
  {
   "cell_type": "code",
   "execution_count": null,
   "id": "3d9a28a5-2f03-470c-9310-7ae9360979f5",
   "metadata": {},
   "outputs": [],
   "source": []
  },
  {
   "cell_type": "code",
   "execution_count": null,
   "id": "4c4bd72b-3a3a-46e3-b786-0893c06e1f5e",
   "metadata": {},
   "outputs": [],
   "source": []
  },
  {
   "cell_type": "code",
   "execution_count": null,
   "id": "03821202-5b00-44ac-87f8-0df0e7d74488",
   "metadata": {},
   "outputs": [],
   "source": []
  },
  {
   "cell_type": "code",
   "execution_count": null,
   "id": "2e941abf-7802-4445-9a12-7df7a439e978",
   "metadata": {},
   "outputs": [],
   "source": [
    "pprint.pp(arrivals['airport']['pluginData']['schedule']['departures'].keys())\n"
   ]
  },
  {
   "cell_type": "code",
   "execution_count": null,
   "id": "df15e496-4ef9-446a-b745-9ed367148ce2",
   "metadata": {},
   "outputs": [],
   "source": [
    "pprint.pp(arrivals['airport']['pluginData']['schedule']['departures']['data'][0]['flight'])          "
   ]
  },
  {
   "cell_type": "code",
   "execution_count": 59,
   "id": "b4d94170-d730-40bc-ac28-fe537dc35628",
   "metadata": {},
   "outputs": [],
   "source": [
    "# import json\n",
    "# json.dump(arrivals, open(, 'wb'))\n",
    "# # data = json.load(open(filename))\n",
    "\n",
    "filename_airports = \"data_airline_edi_7mar2025.json\"\n",
    "\n",
    "import json \n",
    "   \n",
    "\n",
    "# Convert and write JSON object to file\n",
    "def save_data(filename, data):\n",
    "    with open(filename, \"w\") as outfile: \n",
    "        json.dump(data, outfile)\n",
    "\n",
    "save_data(filename, arrivals )\n",
    "\n",
    "def load_file(filename):\n",
    "    data = json.load(open(filename))\n",
    "    return data\n",
    "\n",
    "# load_file(filename_airports)"
   ]
  },
  {
   "cell_type": "code",
   "execution_count": null,
   "id": "84efcdca-8a56-4a7e-b386-847070f0384f",
   "metadata": {},
   "outputs": [],
   "source": []
  },
  {
   "cell_type": "code",
   "execution_count": null,
   "id": "3a08b8cc-6166-41cd-bb31-700ff5f81a4a",
   "metadata": {},
   "outputs": [],
   "source": [
    "import requests\n",
    "\n",
    "response = requests.get(\"https://api.flightapi.io/schedule/67cabf7ed8fa5ab514772bf9?mode=departures&iata=EDI&day=1\")\n",
    "print(response.json())"
   ]
  },
  {
   "cell_type": "code",
   "execution_count": null,
   "id": "b69c6367",
   "metadata": {},
   "outputs": [],
   "source": []
  },
  {
   "cell_type": "code",
   "execution_count": null,
   "id": "4b1344e2",
   "metadata": {},
   "outputs": [],
   "source": [
    "import pprint\n",
    "arrivals = response.json()\n",
    "# pprint.pp(arrivals)\n",
    "\n",
    "arrivals.keys()"
   ]
  },
  {
   "cell_type": "code",
   "execution_count": null,
   "id": "40b9e86f",
   "metadata": {},
   "outputs": [],
   "source": [
    "pprint.pp(arrivals)\n"
   ]
  },
  {
   "cell_type": "code",
   "execution_count": null,
   "id": "625547ae",
   "metadata": {},
   "outputs": [],
   "source": []
  },
  {
   "cell_type": "code",
   "execution_count": null,
   "id": "a2e19c8c",
   "metadata": {},
   "outputs": [],
   "source": []
  },
  {
   "cell_type": "code",
   "execution_count": null,
   "id": "ad5c9ede",
   "metadata": {},
   "outputs": [],
   "source": []
  },
  {
   "cell_type": "code",
   "execution_count": null,
   "id": "2b61df59",
   "metadata": {},
   "outputs": [],
   "source": []
  },
  {
   "cell_type": "code",
   "execution_count": null,
   "id": "8941494b",
   "metadata": {},
   "outputs": [],
   "source": []
  },
  {
   "cell_type": "code",
   "execution_count": null,
   "id": "4f3982de",
   "metadata": {},
   "outputs": [],
   "source": [
    "pprint.pp(arrivals['airport']['pluginData']['schedule']['departures'].keys())\n"
   ]
  },
  {
   "cell_type": "code",
   "execution_count": null,
   "id": "50ded75e",
   "metadata": {},
   "outputs": [],
   "source": [
    "pprint.pp(arrivals['airport']['pluginData']['schedule']['departures']['data'][0]['flight'])          "
   ]
  },
  {
   "cell_type": "code",
   "execution_count": null,
   "id": "82d2c952",
   "metadata": {},
   "outputs": [],
   "source": [
    "# import json\n",
    "# json.dump(arrivals, open(, 'wb'))\n",
    "# # data = json.load(open(filename))\n",
    "\n",
    "filename_airports = \"data_airline_edi_7mar2025.json\"\n",
    "\n",
    "import json \n",
    "   \n",
    "\n",
    "# Convert and write JSON object to file\n",
    "def save_data(filename, data):\n",
    "    with open(filename, \"w\") as outfile: \n",
    "        json.dump(data, outfile)\n",
    "\n",
    "save_data(filename, arrivals )\n",
    "\n",
    "def load_file(filename):\n",
    "    data = json.load(open(filename))\n",
    "    return data\n",
    "\n",
    "load_file(filename_airports)"
   ]
  },
  {
   "cell_type": "code",
   "execution_count": null,
   "id": "175f7a46",
   "metadata": {},
   "outputs": [],
   "source": []
  }
 ],
 "metadata": {
  "kernelspec": {
   "display_name": "Python 3 (ipykernel)",
   "language": "python",
   "name": "python3"
  },
  "language_info": {
   "codemirror_mode": {
    "name": "ipython",
    "version": 3
   },
   "file_extension": ".py",
   "mimetype": "text/x-python",
   "name": "python",
   "nbconvert_exporter": "python",
   "pygments_lexer": "ipython3",
   "version": "3.11.9"
  }
 },
 "nbformat": 4,
 "nbformat_minor": 5
}
