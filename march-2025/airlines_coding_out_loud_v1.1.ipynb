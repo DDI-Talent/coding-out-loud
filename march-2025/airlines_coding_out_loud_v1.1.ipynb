{
 "cells": [
  {
   "cell_type": "code",
   "execution_count": null,
   "id": "a3d1d85c-1405-4015-8a2e-15dec640dc8f",
   "metadata": {},
   "outputs": [],
   "source": [
    "import requests\n",
    "import pprint\n",
    "\n",
    "#api_url = \"https://api.flightapi.io/schedule/YOUR_API_KEY?mode=departures&iata=EDI&day=1\"\n",
    "#response = requests.get(api_url) # simplest web browser\n",
    "#all_departures = response.json()\n"
   ]
  },
  {
   "cell_type": "markdown",
   "id": "8090d79e-d1d4-4939-b766-91f07f05d020",
   "metadata": {},
   "source": [
    "# Task for today:\n",
    "\n",
    "- load live airport arrivals data (from api)\n",
    "- simplify it (Keith)\n",
    "- show it in a simple and pretty way (pawel)\n",
    "\n",
    "API - Application Programming Interfaces (computers talk to computers. And share data)\n",
    "\n",
    "Call - request data\n",
    "\n",
    "What's the data: any format: JSON (text that looks like a python Dict), CSV\n",
    "\n",
    "To get your own API key go to api.flightapi.io\n",
    "\n",
    "\n",
    "`https://api.flightapi.io/schedule/YOUR_API_KEY?mode=departures&iata=EDI&day=1`\n",
    "\n",
    "`https://`  - protocol (programming language)\n",
    "\n",
    "`api.flightapi.io` - website (computer)\n",
    "\n",
    "`/schedule/YOUR_API_KEY` - page (function)\n",
    "\n",
    "`? mode=departures & iata=EDI & day=1` - variables (after ?), separated by & (variables)\n"
   ]
  },
  {
   "cell_type": "code",
   "execution_count": null,
   "id": "aa1d535f-e165-44b9-983f-d6b9b520df05",
   "metadata": {},
   "outputs": [],
   "source": [
    "# or load file locally\n",
    "filename_airports = \"data_airline_edi_7mar2025.json\"\n",
    "\n",
    "def load_file(filename):\n",
    "    data = json.load(open(filename))\n",
    "    return data\n",
    "\n",
    "all_departures = load_file(filename_airports)"
   ]
  },
  {
   "cell_type": "code",
   "execution_count": null,
   "id": "12c76613-8207-4c1c-9dc5-110f1435e3e8",
   "metadata": {},
   "outputs": [],
   "source": [
    "# Exploration\n",
    "just_departures = all_departures['airport']['pluginData']['schedule']['departures']['data']\n",
    "pprint.pp(just_departures[0]['flight'])"
   ]
  },
  {
   "cell_type": "code",
   "execution_count": null,
   "id": "434e742e-0f56-4fcf-86bd-dc02b5aeda3e",
   "metadata": {},
   "outputs": [],
   "source": [
    "print(response.json())"
   ]
  },
  {
   "cell_type": "code",
   "execution_count": null,
   "id": "bc846772-085c-485b-aa4f-b0b4d21df815",
   "metadata": {},
   "outputs": [],
   "source": [
    "arrivals = response.json()\n",
    "# pprint.pp(arrivals)\n",
    "arrivals.keys()"
   ]
  },
  {
   "cell_type": "code",
   "execution_count": null,
   "id": "4a457e2f-d97e-4fce-bf90-cd6fa2946556",
   "metadata": {},
   "outputs": [],
   "source": [
    "pprint.pp(arrivals)\n"
   ]
  },
  {
   "cell_type": "code",
   "execution_count": 48,
   "id": "be05da3f-f4f4-4c7e-a523-b8a603a9ac6d",
   "metadata": {},
   "outputs": [],
   "source": [
    "flight = just_departures[0]['flight']\n",
    "# pprint.pp(flight['airport']['destination']['name'])\n",
    "\n",
    "def create_flight_dict(raw_dict):\n",
    "\n",
    "    destination = raw_dict['flight']['airport']['destination']['name']\n",
    "    departure_time = raw_dict['flight']['status']['text']\n",
    "    \n",
    "    return {\n",
    "        'departure_time': departure_time,\n",
    "        'destination': destination\n",
    "    }"
   ]
  },
  {
   "cell_type": "code",
   "execution_count": 49,
   "id": "35bde0f2-aecd-48f4-b899-a3cb4bf6a5c2",
   "metadata": {},
   "outputs": [],
   "source": [
    "simple_departures = [\n",
    "    create_flight_dict(flight_dict_raw)\n",
    "    for flight_dict_raw in just_departures\n",
    "]"
   ]
  },
  {
   "cell_type": "code",
   "execution_count": 50,
   "id": "c62acba1-616a-448b-8ffa-5015f56608dc",
   "metadata": {},
   "outputs": [
    {
     "data": {
      "text/plain": [
       "['Flight to London City Airport........... will be at ...........Estimated dep 12:04',\n",
       " 'Flight to London Heathrow Airport....... will be at ...........Estimated dep 12:17',\n",
       " 'Flight to Dublin Airport................ will be at ...........Estimated dep 12:50',\n",
       " 'Flight to Istanbul Sabiha Gokcen International Airport will be at ...........Estimated dep 12:20',\n",
       " 'Flight to London Stansted Airport....... will be at ...........Estimated dep 12:15',\n",
       " 'Flight to Dublin Airport................ will be at ...........Estimated dep 12:25',\n",
       " 'Flight to Copenhagen Airport............ will be at ...........Estimated dep 12:25',\n",
       " 'Flight to Manchester Airport............ will be at ...........Estimated dep 12:40',\n",
       " 'Flight to Dusseldorf International Airport will be at ...........Estimated dep 12:30',\n",
       " 'Flight to Frankfurt Airport............. will be at ...........Estimated dep 12:52',\n",
       " 'Flight to Berlin Brandenburg Airport.... will be at ...........Estimated dep 12:40',\n",
       " 'Flight to London City Airport........... will be at ...........Estimated dep 12:50',\n",
       " 'Flight to London Luton Airport.......... will be at ...........Estimated dep 12:50',\n",
       " 'Flight to Oslo Gardermoen Airport....... will be at ...........Estimated dep 13:05',\n",
       " 'Flight to Poznan Lawica Airport......... will be at ...........Estimated dep 13:20',\n",
       " 'Flight to Tenerife South Airport........ will be at ...........Estimated dep 13:05',\n",
       " 'Flight to Seville San Pablo Airport..... will be at ...........Estimated dep 13:40',\n",
       " 'Flight to Amsterdam Schiphol Airport.... will be at ...........Estimated dep 13:25',\n",
       " 'Flight to London Heathrow Airport....... will be at ...........Estimated dep 13:40',\n",
       " 'Flight to Hamburg Airport............... will be at ...........Estimated dep 13:55',\n",
       " 'Flight to Gran Canaria Airport.......... will be at ...........Estimated dep 13:40',\n",
       " 'Flight to Paris Charles de Gaulle Airport will be at ...........Estimated dep 13:40',\n",
       " 'Flight to Amsterdam Schiphol Airport.... will be at ...........Estimated dep 13:55',\n",
       " 'Flight to Doha Hamad International Airport will be at ...........Estimated dep 14:19',\n",
       " 'Flight to London Stansted Airport....... will be at ...........Estimated dep 14:15',\n",
       " 'Flight to Bristol Airport............... will be at ...........Estimated dep 14:30',\n",
       " 'Flight to Southampton Airport........... will be at ...........Estimated dep 14:35',\n",
       " 'Flight to Belfast International Airport. will be at ...........Estimated dep 14:35',\n",
       " 'Flight to Basel Mulhouse-Freiburg EuroAirport will be at ...........Estimated dep 14:35',\n",
       " 'Flight to Stornoway Airport............. will be at ...........Estimated dep 14:40',\n",
       " 'Flight to Tenerife South Airport........ will be at ...........Estimated dep 14:40',\n",
       " 'Flight to Birmingham Airport............ will be at ...........Estimated dep 14:52',\n",
       " 'Flight to London Heathrow Airport....... will be at ...........Estimated dep 14:45',\n",
       " 'Flight to Porto Francisco de Sa Carneiro Airport will be at ...........Estimated dep 15:00',\n",
       " 'Flight to Antalya Airport............... will be at ...........Estimated dep 15:20',\n",
       " 'Flight to London Gatwick Airport........ will be at ...........Estimated dep 15:10',\n",
       " 'Flight to Dublin Airport................ will be at ...........Estimated dep 15:20',\n",
       " 'Flight to Belfast International Airport. will be at ...........Estimated dep 15:25',\n",
       " 'Flight to City of Derry Airport......... will be at ...........Estimated dep 15:25',\n",
       " 'Flight to Agadir Al Massira Airport..... will be at ...........Estimated dep 16:05',\n",
       " 'Flight to Brussels Airport.............. will be at ...........Estimated dep 15:50',\n",
       " 'Flight to London City Airport........... will be at ...........Estimated dep 16:08',\n",
       " 'Flight to Dublin Airport................ will be at ...........Estimated dep 16:15',\n",
       " 'Flight to Bristol Airport............... will be at ...........Estimated dep 16:05',\n",
       " 'Flight to Birmingham Airport............ will be at ...........Estimated dep 16:10',\n",
       " 'Flight to Dublin Airport................ will be at ...........Estimated dep 16:15',\n",
       " 'Flight to Kirkwall Airport.............. will be at ...........Estimated dep 16:30',\n",
       " 'Flight to Belfast City George Best Airport will be at ...........Estimated dep 16:45',\n",
       " 'Flight to Geneva International Airport.. will be at ...........Estimated dep 16:45',\n",
       " 'Flight to London Gatwick Airport........ will be at ...........Estimated dep 16:50',\n",
       " 'Flight to Santander Airport............. will be at ...........Estimated dep 17:20',\n",
       " 'Flight to Amsterdam Schiphol Airport.... will be at ...........Estimated dep 17:20',\n",
       " 'Flight to Lisbon Humberto Delgado Airport will be at ...........Estimated dep 17:25',\n",
       " 'Flight to London Heathrow Airport....... will be at ...........Estimated dep 17:32',\n",
       " 'Flight to Vienna International Airport.. will be at ...........Estimated dep 17:32',\n",
       " 'Flight to Barcelona El Prat Airport..... will be at ...........Estimated dep 17:45',\n",
       " 'Flight to Cardiff Airport............... will be at ...........Estimated dep 17:35',\n",
       " 'Flight to Frankfurt Airport............. will be at ...........Estimated dep 18:02',\n",
       " 'Flight to Southampton Airport........... will be at ...........Estimated dep 18:00',\n",
       " 'Flight to London City Airport........... will be at ...........Estimated dep 18:10',\n",
       " 'Flight to Milan Bergamo Orio al Serio International Airport will be at ...........Estimated dep 18:25',\n",
       " 'Flight to London City Airport........... will be at ...........Estimated dep 18:26',\n",
       " 'Flight to London Luton Airport.......... will be at ...........Estimated dep 18:15',\n",
       " 'Flight to Amsterdam Schiphol Airport.... will be at ...........Estimated dep 18:35',\n",
       " 'Flight to London Heathrow Airport....... will be at ...........Estimated dep 18:25',\n",
       " 'Flight to London Stansted Airport....... will be at ...........Estimated dep 18:25',\n",
       " 'Flight to Amsterdam Schiphol Airport.... will be at ...........Estimated dep 18:25',\n",
       " 'Flight to Isle of Man Airport........... will be at ...........Estimated dep 18:30',\n",
       " 'Flight to Paris Charles de Gaulle Airport will be at ...........Estimated dep 18:35',\n",
       " 'Flight to London Luton Airport.......... will be at ...........Estimated dep 18:50',\n",
       " 'Flight to Bournemouth Airport........... will be at ...........Estimated dep 19:10',\n",
       " 'Flight to Gdansk Lech Walesa Airport.... will be at ...........Estimated dep 19:15',\n",
       " 'Flight to Krakow John Paul II International Airport will be at ...........Estimated dep 19:28',\n",
       " 'Flight to London Heathrow Airport....... will be at ...........Estimated dep 19:41',\n",
       " 'Flight to London Gatwick Airport........ will be at ...........Estimated dep 19:45',\n",
       " 'Flight to London Stansted Airport....... will be at ...........Estimated dep 19:55',\n",
       " 'Flight to Birmingham Airport............ will be at ...........Estimated dep 19:55',\n",
       " 'Flight to Brussels South Charleroi Airport will be at ...........Estimated dep 20:15',\n",
       " 'Flight to London City Airport........... will be at ...........Estimated dep 20:00',\n",
       " 'Flight to Nottingham East Midlands Airport will be at ...........Estimated dep 20:25',\n",
       " 'Flight to Belfast City George Best Airport will be at ...........Estimated dep 20:15',\n",
       " 'Flight to Dublin Airport................ will be at ...........Estimated dep 20:20',\n",
       " 'Flight to Paris Beauvais-Tille Airport.. will be at ...........Estimated dep 20:35',\n",
       " 'Flight to Dubai International Airport... will be at ...........Estimated dep 20:40',\n",
       " 'Flight to Belfast International Airport. will be at ...........Estimated dep 20:40',\n",
       " 'Flight to London Stansted Airport....... will be at ...........Estimated dep 21:05',\n",
       " 'Flight to London Gatwick Airport........ will be at ...........Estimated dep 20:55',\n",
       " 'Flight to Dublin Airport................ will be at ...........Estimated dep 21:00',\n",
       " 'Flight to Bristol Airport............... will be at ...........Estimated dep 21:15',\n",
       " 'Flight to Wroclaw Copernicus Airport.... will be at ...........Estimated dep 21:33',\n",
       " 'Flight to Cork Airport.................. will be at ...........Estimated dep 21:40',\n",
       " 'Flight to Nottingham East Midlands Airport will be at ...........Estimated dep 23:15',\n",
       " 'Flight to Nottingham East Midlands Airport will be at ...........Estimated dep 00:05',\n",
       " 'Flight to Nottingham East Midlands Airport will be at ...........Estimated dep 03:35',\n",
       " 'Flight to Amsterdam Schiphol Airport.... will be at ...........Estimated dep 05:45',\n",
       " 'Flight to London Stansted Airport....... will be at ...........Estimated dep 05:45',\n",
       " 'Flight to Paris Charles de Gaulle Airport will be at ...........Estimated dep 06:18',\n",
       " 'Flight to Alicante Airport.............. will be at ...........Estimated dep 06:00',\n",
       " 'Flight to Malta Luqa International Airport will be at ...........Estimated dep 06:00',\n",
       " 'Flight to Palma de Mallorca Airport..... will be at ...........Estimated dep 06:00']"
      ]
     },
     "execution_count": 50,
     "metadata": {},
     "output_type": "execute_result"
    }
   ],
   "source": [
    "def flight_as_string(simple_dict):\n",
    "    return f\"Flight to {simple_dict['destination']:.<30} will be at {simple_dict['departure_time']:.>30}\"\n",
    "\n",
    "flights_as_strings = [\n",
    "    flight_as_string(flight)\n",
    "    for flight in simple_departures\n",
    "]\n",
    "\n",
    "flights_as_strings"
   ]
  }
 ],
 "metadata": {
  "kernelspec": {
   "display_name": "Python 3 (ipykernel)",
   "language": "python",
   "name": "python3"
  },
  "language_info": {
   "codemirror_mode": {
    "name": "ipython",
    "version": 3
   },
   "file_extension": ".py",
   "mimetype": "text/x-python",
   "name": "python",
   "nbconvert_exporter": "python",
   "pygments_lexer": "ipython3",
   "version": "3.11.9"
  }
 },
 "nbformat": 4,
 "nbformat_minor": 5
}
